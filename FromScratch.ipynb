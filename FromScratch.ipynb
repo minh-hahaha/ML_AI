{
 "cells": [
  {
   "cell_type": "markdown",
   "id": "ab210f4c-4b85-4d13-b0b2-753eae5d969f",
   "metadata": {},
   "source": [
    "# Handwriting Recognition From Scratch"
   ]
  },
  {
   "cell_type": "code",
   "execution_count": 1,
   "id": "8c4c51f8-9ce2-4d74-9d15-b5721d9e4499",
   "metadata": {},
   "outputs": [],
   "source": [
    "import numpy as np\n",
    "import pandas as pd\n",
    "from matplotlib import pyplot as plt\n",
    "\n",
    "data = pd.read_csv('Data/train.csv')"
   ]
  },
  {
   "cell_type": "markdown",
   "id": "c03e7bd1-5aa9-4b10-bd9b-52d99459936f",
   "metadata": {},
   "source": [
    "### Put data into np array and shuffle"
   ]
  },
  {
   "cell_type": "code",
   "execution_count": 2,
   "id": "d6d6d90b-7906-474a-98ff-e8d9b979c8b3",
   "metadata": {},
   "outputs": [],
   "source": [
    "data = np.array(data)\n",
    "m, n = data.shape\n",
    "np.random.shuffle(data) # shuffle before splitting into dev and training sets"
   ]
  },
  {
   "cell_type": "code",
   "execution_count": 3,
   "id": "1c2f43bd-862b-4663-85bf-df0cffbd45f0",
   "metadata": {},
   "outputs": [
    {
     "name": "stdout",
     "output_type": "stream",
     "text": [
      "(42000, 785)\n"
     ]
    }
   ],
   "source": [
    "print(data.shape)"
   ]
  },
  {
   "cell_type": "markdown",
   "id": "22bd5fa1-6e2a-4cbe-9e84-353cd4d3b340",
   "metadata": {},
   "source": [
    "### Splitting the data\n",
    "\n",
    "1. first 1000 images are going to be fore testing (dev)\n",
    "1. Getting labels from index 0\n",
    "1. Normalizing data from 0 to 1"
   ]
  },
  {
   "cell_type": "code",
   "execution_count": 7,
   "id": "b63c9150-cd4a-4adf-b528-5b532407c671",
   "metadata": {},
   "outputs": [],
   "source": [
    "data_dev = data[0:1000].T\n",
    "Y_dev = data_dev[0] # labels\n",
    "X_dev = data_dev[1:n] # images\n",
    "X_dev = X_dev / 255."
   ]
  },
  {
   "cell_type": "code",
   "execution_count": 8,
   "id": "a850f69a-ed52-4311-9e5f-59b82434658e",
   "metadata": {},
   "outputs": [
    {
     "name": "stdout",
     "output_type": "stream",
     "text": [
      "(784, 1000)\n"
     ]
    }
   ],
   "source": [
    "print(X_dev.shape)"
   ]
  },
  {
   "cell_type": "markdown",
   "id": "ef0b3472-4e3f-4ece-8eae-3f985c907c87",
   "metadata": {},
   "source": [
    "### reshaping some data"
   ]
  },
  {
   "cell_type": "code",
   "execution_count": 9,
   "id": "63b83486-aa6d-4917-b44c-0c2a6f3e89ef",
   "metadata": {},
   "outputs": [
    {
     "name": "stdout",
     "output_type": "stream",
     "text": [
      "(1000, 784)\n"
     ]
    }
   ],
   "source": [
    "X_dev_images = X_dev.T\n",
    "print(X_dev_images.shape)"
   ]
  },
  {
   "cell_type": "code",
   "execution_count": 11,
   "id": "d85bbc6a-eb36-424b-b9ae-76651360e541",
   "metadata": {},
   "outputs": [],
   "source": [
    "X_dev_images=X_dev_images.reshape(1000,28,28)"
   ]
  },
  {
   "cell_type": "code",
   "execution_count": 12,
   "id": "74848fc9-1b4d-49b0-8400-1bb1eea9bf2b",
   "metadata": {},
   "outputs": [
    {
     "name": "stdout",
     "output_type": "stream",
     "text": [
      "(1000, 28, 28)\n"
     ]
    }
   ],
   "source": [
    "print(X_dev_images.shape)"
   ]
  },
  {
   "cell_type": "markdown",
   "id": "5b8e292e-0be6-4013-8cd7-a41269176dd1",
   "metadata": {},
   "source": [
    "### Display Images"
   ]
  },
  {
   "cell_type": "code",
   "execution_count": 5,
   "id": "abd3f51b-719b-4ed0-a779-a19eb5bac5be",
   "metadata": {},
   "outputs": [],
   "source": [
    "def graphit(images, labels, rows=1, cols=1, start=0, zoom=2):\n",
    "  n_images = rows * cols\n",
    "  fig, ax = plt.subplots(rows,cols,figsize=(cols * zoom, rows * zoom))\n",
    "  for n in range(n_images):\n",
    "    plt.subplot(rows, cols, n+1)\n",
    "    plt.xticks([])\n",
    "    plt.yticks([])\n",
    "    plt.grid(False)\n",
    "    plt.imshow(images[n+start], cmap=plt.cm.binary)\n",
    "    # plt.imshow(images[n])\n",
    "    plt.xlabel(\"[\" + str(n+start) + \"] is a : \" + str(labels[n+start]))\n",
    "  plt.show()"
   ]
  },
  {
   "cell_type": "code",
   "execution_count": 21,
   "id": "bb9f29c9-34c4-4ff7-b575-500d337da1e1",
   "metadata": {},
   "outputs": [
    {
     "data": {
      "image/png": "[encoded data removed]",
      "text/plain": [
       "<Figure size 648x648 with 9 Axes>"
      ]
     },
     "metadata": {},
     "output_type": "display_data"
    }
   ],
   "source": [
    "graphit(X_dev_images,Y_dev, 3,3,100,zoom=3)"
   ]
  },
  {
   "cell_type": "markdown",
   "id": "33f4f041-19a6-411b-9e41-0f7bba36960f",
   "metadata": {},
   "source": [
    "## Create training data"
   ]
  },
  {
   "cell_type": "code",
   "execution_count": 23,
   "id": "f6974f92-4e90-4323-9b5a-a73f165d1ebc",
   "metadata": {},
   "outputs": [
    {
     "name": "stdout",
     "output_type": "stream",
     "text": [
      "(41000,) (784, 41000)\n"
     ]
    }
   ],
   "source": [
    "data_train = data[1000:].T\n",
    "Y_train = data_train[0] # labels\n",
    "X_train = data_train[1:] # images\n",
    "X_train = X_train / 255.\n",
    "\n",
    "print(Y_train.shape,X_train.shape)"
   ]
  },
  {
   "cell_type": "markdown",
   "id": "4c75bae4-9d7e-4d76-8361-514a2820c2c7",
   "metadata": {},
   "source": [
    "## Building functions for neural network"
   ]
  },
  {
   "cell_type": "markdown",
   "id": "2df1b66b-9b80-4b23-8d0d-4776d8af58b5",
   "metadata": {},
   "source": [
    "### init the parameters"
   ]
  },
  {
   "cell_type": "code",
   "execution_count": 24,
   "id": "ae50f70e-29b9-4b8a-9fa7-38e8af5a2559",
   "metadata": {},
   "outputs": [],
   "source": [
    "def init_params():\n",
    "    W1 = np.random.rand(10,784)"
   ]
  },
  {
   "cell_type": "code",
   "execution_count": null,
   "id": "531d3c43-76c6-4744-81a8-cb7a42cc3415",
   "metadata": {},
   "outputs": [],
   "source": []
  }
 ],
 "metadata": {
  "kernelspec": {
   "display_name": "Python 3 (ipykernel)",
   "language": "python",
   "name": "python3"
  },
  "language_info": {
   "codemirror_mode": {
    "name": "ipython",
    "version": 3
   },
   "file_extension": ".py",
   "mimetype": "text/x-python",
   "name": "python",
   "nbconvert_exporter": "python",
   "pygments_lexer": "ipython3",
   "version": "3.8.10"
  }
 },
 "nbformat": 4,
 "nbformat_minor": 5
}
