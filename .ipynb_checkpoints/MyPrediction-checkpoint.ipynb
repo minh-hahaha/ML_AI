{
 "cells": [
  {
   "cell_type": "markdown",
   "id": "225f2616-28d8-46b1-a047-86fd5fe73f96",
   "metadata": {},
   "source": [
    "## Imports"
   ]
  },
  {
   "cell_type": "code",
   "execution_count": 1,
   "id": "19cc7a91-e933-46ac-b1f5-9fb226f4c11c",
   "metadata": {},
   "outputs": [
    {
     "name": "stderr",
     "output_type": "stream",
     "text": [
      "2023-04-28 18:31:54.731610: I tensorflow/tsl/cuda/cudart_stub.cc:28] Could not find cuda drivers on your machine, GPU will not be used.\n",
      "2023-04-28 18:31:54.764291: I tensorflow/tsl/cuda/cudart_stub.cc:28] Could not find cuda drivers on your machine, GPU will not be used.\n",
      "2023-04-28 18:31:54.764649: I tensorflow/core/platform/cpu_feature_guard.cc:182] This TensorFlow binary is optimized to use available CPU instructions in performance-critical operations.\n",
      "To enable the following instructions: AVX2 FMA, in other operations, rebuild TensorFlow with the appropriate compiler flags.\n",
      "2023-04-28 18:31:55.383079: W tensorflow/compiler/tf2tensorrt/utils/py_utils.cc:38] TF-TRT Warning: Could not find TensorRT\n"
     ]
    }
   ],
   "source": [
    "import tensorflow as tf\n",
    "from keras.datasets import mnist\n",
    "import numpy as np\n",
    "import matplotlib\n",
    "import matplotlib.pyplot as plt\n",
    "\n",
    "from PIL import Image\n",
    "import h5py\n",
    "import pandas as pd"
   ]
  },
  {
   "cell_type": "markdown",
   "id": "e17864d7-bb12-450a-994b-1acc096a2b7d",
   "metadata": {},
   "source": [
    "---\n",
    "## Go and read in the images and label in labels.csv"
   ]
  },
  {
   "cell_type": "code",
   "execution_count": 2,
   "id": "bcbd13fd-c2cf-4c0a-ab2d-00f69d2834c8",
   "metadata": {},
   "outputs": [],
   "source": [
    "mydata = np.load('mynumber.npz')"
   ]
  },
  {
   "cell_type": "code",
   "execution_count": 3,
   "id": "74d79a76-a08b-4204-add1-78984b092853",
   "metadata": {},
   "outputs": [
    {
     "data": {
      "text/plain": [
       "numpy.lib.npyio.NpzFile"
      ]
     },
     "execution_count": 3,
     "metadata": {},
     "output_type": "execute_result"
    }
   ],
   "source": [
    "type(mydata)"
   ]
  },
  {
   "cell_type": "code",
   "execution_count": 4,
   "id": "e1c60b62-eefd-41df-901a-f5db41381b15",
   "metadata": {},
   "outputs": [
    {
     "data": {
      "text/plain": [
       "['images', 'labels']"
      ]
     },
     "execution_count": 4,
     "metadata": {},
     "output_type": "execute_result"
    }
   ],
   "source": [
    "mydata.files"
   ]
  },
  {
   "cell_type": "code",
   "execution_count": 5,
   "id": "f3ff3c52-9377-40d4-aced-e261ca05dd43",
   "metadata": {},
   "outputs": [
    {
     "data": {
      "text/plain": [
       "(5, 28, 28)"
      ]
     },
     "execution_count": 5,
     "metadata": {},
     "output_type": "execute_result"
    }
   ],
   "source": [
    "mydata['images'].shape"
   ]
  },
  {
   "cell_type": "code",
   "execution_count": 6,
   "id": "123d8f9c-7fad-48dc-9b60-249fa64b3295",
   "metadata": {},
   "outputs": [
    {
     "data": {
      "text/plain": [
       "(5,)"
      ]
     },
     "execution_count": 6,
     "metadata": {},
     "output_type": "execute_result"
    }
   ],
   "source": [
    "mydata['labels'].shape"
   ]
  },
  {
   "cell_type": "markdown",
   "id": "d4e9b5e8-2d8d-4eda-8f42-d144b46c28f6",
   "metadata": {},
   "source": [
    "---\n",
    "## Load my AI model"
   ]
  },
  {
   "cell_type": "code",
   "execution_count": 7,
   "id": "493a4db2-35b1-48d6-a6f1-fb6cf425a5b5",
   "metadata": {},
   "outputs": [
    {
     "name": "stdout",
     "output_type": "stream",
     "text": [
      "Model: \"sequential\"\n",
      "_________________________________________________________________\n",
      " Layer (type)                Output Shape              Param #   \n",
      "=================================================================\n",
      " flatten (Flatten)           (None, 784)               0         \n",
      "                                                                 \n",
      " dense (Dense)               (None, 128)               100480    \n",
      "                                                                 \n",
      " dropout (Dropout)           (None, 128)               0         \n",
      "                                                                 \n",
      " dense_1 (Dense)             (None, 32)                4128      \n",
      "                                                                 \n",
      " dense_2 (Dense)             (None, 10)                330       \n",
      "                                                                 \n",
      "=================================================================\n",
      "Total params: 104,938\n",
      "Trainable params: 104,938\n",
      "Non-trainable params: 0\n",
      "_________________________________________________________________\n",
      "None\n"
     ]
    }
   ],
   "source": [
    "model = tf.keras.models.load_model('handwriting_model.h5')\n",
    "print(model.summary())"
   ]
  },
  {
   "cell_type": "markdown",
   "id": "c55aaf48-edd0-45e2-b0ac-f983cf1fb228",
   "metadata": {},
   "source": [
    "---\n",
    "### noramlize the data"
   ]
  },
  {
   "cell_type": "code",
   "execution_count": 8,
   "id": "f7fab653-5a93-4280-812b-5446dae18cf2",
   "metadata": {},
   "outputs": [],
   "source": [
    "images = mydata['images']/255"
   ]
  },
  {
   "cell_type": "markdown",
   "id": "4622bf82-3d99-4302-acef-abacf08c626d",
   "metadata": {},
   "source": [
    "---\n",
    "## make predictions"
   ]
  },
  {
   "cell_type": "code",
   "execution_count": 9,
   "id": "05d626a2-d7d2-4e99-ad45-1df782831ba9",
   "metadata": {},
   "outputs": [
    {
     "name": "stdout",
     "output_type": "stream",
     "text": [
      "1/1 [==============================] - 0s 67ms/step\n"
     ]
    }
   ],
   "source": [
    "all_predictions = model.predict(images)"
   ]
  },
  {
   "cell_type": "code",
   "execution_count": 10,
   "id": "958dcfc4-c506-4ad0-a769-8bac7063e0a9",
   "metadata": {},
   "outputs": [
    {
     "data": {
      "text/plain": [
       "array([6.14725635e-04, 4.19073156e-04, 5.69336079e-02, 1.09950786e-04,\n",
       "       2.21676648e-01, 6.25043094e-01, 5.79789057e-02, 4.97546629e-04,\n",
       "       3.22773233e-02, 4.44917986e-03], dtype=float32)"
      ]
     },
     "execution_count": 10,
     "metadata": {},
     "output_type": "execute_result"
    }
   ],
   "source": [
    "all_predictions[0]"
   ]
  },
  {
   "cell_type": "code",
   "execution_count": 11,
   "id": "70ec5c54-8d45-4462-8802-440635e1e89c",
   "metadata": {},
   "outputs": [
    {
     "name": "stdout",
     "output_type": "stream",
     "text": [
      "1/1 [==============================] - 0s 99ms/step - loss: 3.2197 - accuracy: 0.6000\n",
      "\n",
      "Test Accuracy: 60.00000238418579 %\n"
     ]
    },
    {
     "name": "stderr",
     "output_type": "stream",
     "text": [
      "/usr/local/lib/python3.8/dist-packages/keras/backend.py:5612: UserWarning: \"`sparse_categorical_crossentropy` received `from_logits=True`, but the `output` argument was produced by a Softmax activation and thus does not represent logits. Was this intended?\n",
      "  output, from_logits = _get_logits(\n"
     ]
    }
   ],
   "source": [
    "test_loss,test_acc = model.evaluate(images,mydata['labels'],verbose = 1)\n",
    "print('\\nTest Accuracy:', test_acc *100, \"%\")"
   ]
  },
  {
   "cell_type": "code",
   "execution_count": 12,
   "id": "403ab6d9-0449-48c1-8990-2c572caac73c",
   "metadata": {},
   "outputs": [
    {
     "name": "stdout",
     "output_type": "stream",
     "text": [
      "5 3\n",
      "9 9\n",
      "4 4\n",
      "6 6\n",
      "1 8\n"
     ]
    }
   ],
   "source": [
    "wrong = []\n",
    "for i in range(len(all_predictions)):\n",
    "    print(np.argmax(all_predictions[i]), mydata['labels'][i])\n",
    "       ## wrong.append(i)\n",
    "\n",
    "#print(wrong)\n",
    "#print(len(wrong))\n",
    "#print(\"percentage wrong\", len(wrong)/len(images)*100, '%')"
   ]
  },
  {
   "cell_type": "code",
   "execution_count": 13,
   "id": "7f8f6221-265b-45a1-9342-ca7a091c25c0",
   "metadata": {},
   "outputs": [],
   "source": [
    "def plot_classified_image(ax, img, label, classification):\n",
    "    plt.xticks([])\n",
    "    plt.yticks([])\n",
    "    plt.grid(False)\n",
    "    plt.imshow(img, cmap=plt.cm.binary)\n",
    "    predicted = np.argmax(classification)\n",
    "    if predicted == label:\n",
    "        color = 'black'\n",
    "    else:\n",
    "        color = 'r'\n",
    "\n",
    "    plt.xlabel(\"Predicted : {}  Confidence : {:2.0f}  Actual : {}\".format(predicted, np.max(classification), label), color=color)\n",
    "    # plt.xlabel(\"[zzzzz]\")\n",
    "    return ax"
   ]
  },
  {
   "cell_type": "code",
   "execution_count": 14,
   "id": "a1175150-0a84-48f5-906e-09be156aac92",
   "metadata": {},
   "outputs": [],
   "source": [
    "# may need to fix this when we have labels for the category names\n",
    "def plot_prediction(ax, label, prediction):\n",
    "    number_of_classes = len(prediction)\n",
    "    x_values = np.arange(number_of_classes)\n",
    "    predicted = np.argmax(prediction)\n",
    "    ax.bar(x_values,prediction, alpha=0.75)\n",
    "    ax.bar(predicted, prediction[predicted], color='r', label='prediction')\n",
    "    ax.bar(label,prediction[label], color='g', label='actual')\n",
    "    ax.set_xticks(x_values)\n",
    "    ax.set_xlabel('Number')\n",
    "    ax.set_ylabel('Porbability')\n",
    "    ax.legend()"
   ]
  },
  {
   "cell_type": "code",
   "execution_count": 28,
   "id": "cf22b6ae-29ee-47cc-a395-cf754dbea40f",
   "metadata": {},
   "outputs": [
    {
     "data": {
      "image/png": "[encoded data removed]",
      "text/plain": [
       "<Figure size 864x432 with 2 Axes>"
      ]
     },
     "metadata": {
      "needs_background": "light"
     },
     "output_type": "display_data"
    }
   ],
   "source": [
    "for i in range(len(all_predictions)):\n",
    "    obs = i\n",
    "    fig, ax = plt.subplots(1,2, figsize=(12,6))\n",
    "    plot_classified_image(plt.subplot(1,2,1), images[obs], mydata['labels'][obs], all_predictions[obs])\n",
    "    plot_prediction(plt.subplot(1,2,2), mydata['labels'][obs], all_predictions[obs])\n",
    "    plt.show()"
   ]
  },
  {
   "cell_type": "code",
   "execution_count": null,
   "id": "b3f850a2-2750-4515-932e-6a59c0facd36",
   "metadata": {},
   "outputs": [],
   "source": []
  }
 ],
 "metadata": {
  "kernelspec": {
   "display_name": "Python 3 (ipykernel)",
   "language": "python",
   "name": "python3"
  },
  "language_info": {
   "codemirror_mode": {
    "name": "ipython",
    "version": 3
   },
   "file_extension": ".py",
   "mimetype": "text/x-python",
   "name": "python",
   "nbconvert_exporter": "python",
   "pygments_lexer": "ipython3",
   "version": "3.8.10"
  }
 },
 "nbformat": 4,
 "nbformat_minor": 5
}
