{
 "cells": [
  {
   "cell_type": "markdown",
   "id": "ab210f4c-4b85-4d13-b0b2-753eae5d969f",
   "metadata": {},
   "source": [
    "# Handwriting Recognition From Scratch"
   ]
  },
  {
   "cell_type": "code",
   "execution_count": 1,
   "id": "8c4c51f8-9ce2-4d74-9d15-b5721d9e4499",
   "metadata": {},
   "outputs": [],
   "source": [
    "import numpy as np\n",
    "import pandas as pd\n",
    "from matplotlib import pyplot as plt\n",
    "\n",
    "data = pd.read_csv('Data/train.csv')"
   ]
  },
  {
   "cell_type": "markdown",
   "id": "c03e7bd1-5aa9-4b10-bd9b-52d99459936f",
   "metadata": {},
   "source": [
    "### Put data into np array and shuffle"
   ]
  },
  {
   "cell_type": "code",
   "execution_count": 2,
   "id": "d6d6d90b-7906-474a-98ff-e8d9b979c8b3",
   "metadata": {},
   "outputs": [],
   "source": [
    "data = np.array(data)\n",
    "m, n = data.shape\n",
    "np.random.shuffle(data) # shuffle before splitting into dev and training sets"
   ]
  },
  {
   "cell_type": "code",
   "execution_count": 3,
   "id": "1c2f43bd-862b-4663-85bf-df0cffbd45f0",
   "metadata": {},
   "outputs": [
    {
     "name": "stdout",
     "output_type": "stream",
     "text": [
      "(42000, 785)\n"
     ]
    }
   ],
   "source": [
    "print(data.shape)"
   ]
  },
  {
   "cell_type": "markdown",
   "id": "22bd5fa1-6e2a-4cbe-9e84-353cd4d3b340",
   "metadata": {},
   "source": [
    "### Splitting the data\n",
    "\n",
    "1. first 1000 images are going to be fore testing (dev)\n",
    "1. Getting labels from index 0\n",
    "1. Normalizing data from 0 to 1"
   ]
  },
  {
   "cell_type": "code",
   "execution_count": 4,
   "id": "b63c9150-cd4a-4adf-b528-5b532407c671",
   "metadata": {},
   "outputs": [],
   "source": [
    "data_dev = data[0:1000].T\n",
    "Y_dev = data_dev[0] # labels\n",
    "X_dev = data_dev[1:n] # images\n",
    "X_dev = X_dev / 255."
   ]
  },
  {
   "cell_type": "code",
   "execution_count": 5,
   "id": "a850f69a-ed52-4311-9e5f-59b82434658e",
   "metadata": {},
   "outputs": [
    {
     "name": "stdout",
     "output_type": "stream",
     "text": [
      "(784, 1000)\n"
     ]
    }
   ],
   "source": [
    "print(X_dev.shape)"
   ]
  },
  {
   "cell_type": "markdown",
   "id": "ef0b3472-4e3f-4ece-8eae-3f985c907c87",
   "metadata": {},
   "source": [
    "### reshaping some data"
   ]
  },
  {
   "cell_type": "code",
   "execution_count": 6,
   "id": "63b83486-aa6d-4917-b44c-0c2a6f3e89ef",
   "metadata": {},
   "outputs": [
    {
     "name": "stdout",
     "output_type": "stream",
     "text": [
      "(1000, 784)\n"
     ]
    }
   ],
   "source": [
    "X_dev_images = X_dev.T\n",
    "print(X_dev_images.shape)"
   ]
  },
  {
   "cell_type": "code",
   "execution_count": 7,
   "id": "d85bbc6a-eb36-424b-b9ae-76651360e541",
   "metadata": {},
   "outputs": [],
   "source": [
    "X_dev_images=X_dev_images.reshape(1000,28,28)"
   ]
  },
  {
   "cell_type": "code",
   "execution_count": 8,
   "id": "74848fc9-1b4d-49b0-8400-1bb1eea9bf2b",
   "metadata": {},
   "outputs": [
    {
     "name": "stdout",
     "output_type": "stream",
     "text": [
      "(1000, 28, 28)\n"
     ]
    }
   ],
   "source": [
    "print(X_dev_images.shape)"
   ]
  },
  {
   "cell_type": "markdown",
   "id": "5b8e292e-0be6-4013-8cd7-a41269176dd1",
   "metadata": {},
   "source": [
    "### Display Images"
   ]
  },
  {
   "cell_type": "code",
   "execution_count": 9,
   "id": "abd3f51b-719b-4ed0-a779-a19eb5bac5be",
   "metadata": {},
   "outputs": [],
   "source": [
    "def graphit(images, labels, rows=1, cols=1, start=0, zoom=2):\n",
    "  n_images = rows * cols\n",
    "  fig, ax = plt.subplots(rows,cols,figsize=(cols * zoom, rows * zoom))\n",
    "  for n in range(n_images):\n",
    "    plt.subplot(rows, cols, n+1)\n",
    "    plt.xticks([])\n",
    "    plt.yticks([])\n",
    "    plt.grid(False)\n",
    "    plt.imshow(images[n+start], cmap=plt.cm.binary)\n",
    "    # plt.imshow(images[n])\n",
    "    plt.xlabel(\"[\" + str(n+start) + \"] is a : \" + str(labels[n+start]))\n",
    "  plt.show()"
   ]
  },
  {
   "cell_type": "code",
   "execution_count": 10,
   "id": "bb9f29c9-34c4-4ff7-b575-500d337da1e1",
   "metadata": {},
   "outputs": [
    {
     "data": {
      "image/png": "[encoded data removed]",
      "text/plain": [
       "<Figure size 648x648 with 9 Axes>"
      ]
     },
     "metadata": {},
     "output_type": "display_data"
    }
   ],
   "source": [
    "graphit(X_dev_images,Y_dev, 3,3,100,zoom=3)"
   ]
  },
  {
   "cell_type": "markdown",
   "id": "33f4f041-19a6-411b-9e41-0f7bba36960f",
   "metadata": {},
   "source": [
    "## Create training data"
   ]
  },
  {
   "cell_type": "code",
   "execution_count": 21,
   "id": "f6974f92-4e90-4323-9b5a-a73f165d1ebc",
   "metadata": {},
   "outputs": [
    {
     "name": "stdout",
     "output_type": "stream",
     "text": [
      "(41000,) (784, 41000)\n"
     ]
    }
   ],
   "source": [
    "data_train = data[1000:m].T\n",
    "Y_train = data_train[0] # labels\n",
    "X_train = data_train[1:n] # images\n",
    "X_train = X_train / 255.\n",
    "\n",
    "print(Y_train.shape,X_train.shape)"
   ]
  },
  {
   "cell_type": "markdown",
   "id": "4c75bae4-9d7e-4d76-8361-514a2820c2c7",
   "metadata": {},
   "source": [
    "## Building functions for neural network"
   ]
  },
  {
   "cell_type": "markdown",
   "id": "819ccc51-ff23-4aa4-ad23-64619c3e7d40",
   "metadata": {},
   "source": [
    "### Activation functions"
   ]
  },
  {
   "cell_type": "code",
   "execution_count": 12,
   "id": "5c0e0791-1e48-4bd8-86be-6c2956342eb0",
   "metadata": {},
   "outputs": [],
   "source": [
    "def ReLU(Z):\n",
    "    return np.maximum(0,Z)\n",
    "    \n",
    "def deriv_ReLU(Z):\n",
    "    return Z > 0\n",
    "    \n",
    "def softmax(Z):\n",
    "    return np.exp(Z) / sum(np.exp(Z))"
   ]
  },
  {
   "cell_type": "markdown",
   "id": "2df1b66b-9b80-4b23-8d0d-4776d8af58b5",
   "metadata": {},
   "source": [
    "### init the parameters"
   ]
  },
  {
   "cell_type": "code",
   "execution_count": 28,
   "id": "ae50f70e-29b9-4b8a-9fa7-38e8af5a2559",
   "metadata": {},
   "outputs": [],
   "source": [
    "def init_params(): \n",
    "    W1 = np.random.rand(10,784) - 0.5\n",
    "    b1 = np.random.rand(10,1) - 0.5\n",
    "    W2 = np.random.rand(10,10) - 0.5\n",
    "    b2 = np.random.rand(10,1)- 0.5\n",
    "    return W1, b1, W2, b2"
   ]
  },
  {
   "cell_type": "markdown",
   "id": "d48349b1-ac87-412e-adae-928547032f9e",
   "metadata": {},
   "source": [
    "### Create the matrix of correct softmax classification"
   ]
  },
  {
   "cell_type": "code",
   "execution_count": 14,
   "id": "28b92ed2-12e1-4657-8d79-b1d3316961b6",
   "metadata": {},
   "outputs": [],
   "source": [
    "def one_hot(Y):\n",
    "    one_hot_Y = np.zeros((Y.size,Y.max()+1))\n",
    "    one_hot_Y[np.arange(Y.size), Y] = 1\n",
    "    one_hot_Y = one_hot_Y.T\n",
    "    return one_hot_Y"
   ]
  },
  {
   "cell_type": "markdown",
   "id": "517016ca-1393-495c-bfd0-1e6bc96bb987",
   "metadata": {},
   "source": [
    "### Forward Propagation"
   ]
  },
  {
   "cell_type": "code",
   "execution_count": 24,
   "id": "531d3c43-76c6-4744-81a8-cb7a42cc3415",
   "metadata": {},
   "outputs": [],
   "source": [
    "def forward_prop ( W1, b1, W2, b2 , X):\n",
    "    Z1 = W1.dot(X) + b1\n",
    "    A1 = ReLU(Z1)\n",
    "    Z2 = W2.dot(A1) + b2\n",
    "    A2 = softmax(Z2)\n",
    "    return Z1, A1, Z2, A2"
   ]
  },
  {
   "cell_type": "markdown",
   "id": "b45b5464-a275-477f-b1b2-678567fe7ac7",
   "metadata": {},
   "source": [
    "### Back Propagation"
   ]
  },
  {
   "cell_type": "code",
   "execution_count": 16,
   "id": "4507316d-d0b7-4545-8784-08601ae6b41d",
   "metadata": {},
   "outputs": [],
   "source": [
    "def back_prop(Z1, A1, Z2, A2,  W1, W2, X, Y):\n",
    "    one_hot_Y = one_hot(Y)\n",
    "    dZ2 = A2 - one_hot_Y\n",
    "    dW2 = 1 / m *dZ2.dot(A1.T)\n",
    "    db2 = 1 / m * np.sum(dZ2)\n",
    "    dZ1 = W2.T.dot(dZ2) * deriv_ReLU(Z1)\n",
    "    dW1 = 1 / m *dZ1.dot(X.T)\n",
    "    db1 = 1 / m * np.sum(dZ1)\n",
    "    return dW1, db1, dW2, db2"
   ]
  },
  {
   "cell_type": "markdown",
   "id": "30ef08a5-8310-4c56-88b6-3df0e55fedb1",
   "metadata": {},
   "source": [
    "### Update params"
   ]
  },
  {
   "cell_type": "code",
   "execution_count": 17,
   "id": "2fbf195c-3643-410e-9687-e61bb485879a",
   "metadata": {},
   "outputs": [],
   "source": [
    "def update_params(W1, b1, W2, b2, dW1, db1, dW2, db2, alpha):\n",
    "    W1 = W1 - alpha * dW1\n",
    "    b1 = b1 - alpha * db1\n",
    "    W2 = W2 - alpha * dW2\n",
    "    b2 = b2 - alpha * db2\n",
    "    return W1, b1 , W2, b2"
   ]
  },
  {
   "cell_type": "markdown",
   "id": "a285972a-2fe1-4cb7-a6ec-1bb48b1370a1",
   "metadata": {},
   "source": [
    "### Gradient Descent"
   ]
  },
  {
   "cell_type": "code",
   "execution_count": 30,
   "id": "f20f62b4-917c-4f0c-8a2c-62f4d08e712b",
   "metadata": {},
   "outputs": [],
   "source": [
    "def gradient_descent(X, Y, alpha, iterations):\n",
    "    W1, b1, W2, b2 = init_params()\n",
    "    for i in range(iterations):\n",
    "        Z1, A1, Z2, A2 = forward_prop(W1, b1 , W2, b2, X)\n",
    "        dW1, db1, dW2, db2 = back_prop(Z1, A1, Z2, A2,  W1, W2, X, Y)\n",
    "        W1, b1 , W2, b2 = update_params(W1, b1, W2, b2, dW1, db1, dW2, db2, alpha)\n",
    "        if i % 10 == 0:\n",
    "            print(\"interation: \", i)\n",
    "            print(\"accuracy: \", get_accuracy(get_predictions(A2),Y))\n",
    "    return W1, b1, W2, b2"
   ]
  },
  {
   "cell_type": "code",
   "execution_count": 31,
   "id": "998467df-2e7a-4fb6-b4b3-23d3adebfc65",
   "metadata": {},
   "outputs": [],
   "source": [
    "def get_predictions(A2):\n",
    "    return np.argmax(A2,0)\n",
    "\n",
    "def get_accuracy(predictions, Y):\n",
    "    print(predictions, Y)\n",
    "    return np.sum(predictions == Y) / Y.size"
   ]
  },
  {
   "cell_type": "code",
   "execution_count": 32,
   "id": "f190dedb-cac1-41ba-8350-b46b151a189f",
   "metadata": {},
   "outputs": [
    {
     "name": "stdout",
     "output_type": "stream",
     "text": [
      "interation:  0\n",
      "[0 5 9 ... 0 5 9] [4 0 9 ... 9 4 3]\n",
      "accuracy:  0.06765853658536586\n",
      "interation:  10\n",
      "[0 4 1 ... 0 5 9] [4 0 9 ... 9 4 3]\n",
      "accuracy:  0.1449512195121951\n",
      "interation:  20\n",
      "[0 0 0 ... 0 4 9] [4 0 9 ... 9 4 3]\n",
      "accuracy:  0.16834146341463416\n",
      "interation:  30\n",
      "[0 0 0 ... 0 4 0] [4 0 9 ... 9 4 3]\n",
      "accuracy:  0.1843170731707317\n",
      "interation:  40\n",
      "[0 0 0 ... 0 4 0] [4 0 9 ... 9 4 3]\n",
      "accuracy:  0.1978048780487805\n",
      "interation:  50\n",
      "[0 0 0 ... 0 4 0] [4 0 9 ... 9 4 3]\n",
      "accuracy:  0.2080731707317073\n",
      "interation:  60\n",
      "[0 0 0 ... 0 4 0] [4 0 9 ... 9 4 3]\n",
      "accuracy:  0.21758536585365854\n",
      "interation:  70\n",
      "[0 0 0 ... 0 4 0] [4 0 9 ... 9 4 3]\n",
      "accuracy:  0.22497560975609757\n",
      "interation:  80\n",
      "[0 0 1 ... 0 4 0] [4 0 9 ... 9 4 3]\n",
      "accuracy:  0.23090243902439025\n",
      "interation:  90\n",
      "[0 0 1 ... 0 4 0] [4 0 9 ... 9 4 3]\n",
      "accuracy:  0.23673170731707316\n",
      "interation:  100\n",
      "[0 0 1 ... 0 7 0] [4 0 9 ... 9 4 3]\n",
      "accuracy:  0.242\n",
      "interation:  110\n",
      "[0 0 1 ... 0 7 0] [4 0 9 ... 9 4 3]\n",
      "accuracy:  0.24690243902439024\n",
      "interation:  120\n",
      "[0 0 1 ... 0 7 0] [4 0 9 ... 9 4 3]\n",
      "accuracy:  0.25141463414634146\n",
      "interation:  130\n",
      "[0 0 1 ... 0 7 0] [4 0 9 ... 9 4 3]\n",
      "accuracy:  0.25565853658536586\n",
      "interation:  140\n",
      "[0 0 1 ... 0 7 0] [4 0 9 ... 9 4 3]\n",
      "accuracy:  0.2597560975609756\n",
      "interation:  150\n",
      "[0 0 1 ... 0 7 0] [4 0 9 ... 9 4 3]\n",
      "accuracy:  0.26407317073170733\n",
      "interation:  160\n",
      "[0 0 1 ... 0 7 0] [4 0 9 ... 9 4 3]\n",
      "accuracy:  0.26821951219512197\n",
      "interation:  170\n",
      "[0 0 1 ... 0 7 0] [4 0 9 ... 9 4 3]\n",
      "accuracy:  0.27178048780487807\n",
      "interation:  180\n",
      "[0 0 1 ... 0 7 0] [4 0 9 ... 9 4 3]\n",
      "accuracy:  0.2755365853658537\n",
      "interation:  190\n",
      "[0 0 1 ... 0 7 0] [4 0 9 ... 9 4 3]\n",
      "accuracy:  0.2796585365853659\n",
      "interation:  200\n",
      "[0 0 1 ... 0 7 0] [4 0 9 ... 9 4 3]\n",
      "accuracy:  0.2838292682926829\n",
      "interation:  210\n",
      "[0 0 1 ... 0 7 0] [4 0 9 ... 9 4 3]\n",
      "accuracy:  0.28736585365853656\n",
      "interation:  220\n",
      "[0 0 1 ... 0 7 0] [4 0 9 ... 9 4 3]\n",
      "accuracy:  0.2913170731707317\n",
      "interation:  230\n",
      "[0 0 1 ... 0 7 0] [4 0 9 ... 9 4 3]\n",
      "accuracy:  0.2949512195121951\n",
      "interation:  240\n",
      "[0 0 1 ... 0 7 0] [4 0 9 ... 9 4 3]\n",
      "accuracy:  0.2991219512195122\n",
      "interation:  250\n",
      "[4 0 1 ... 0 7 0] [4 0 9 ... 9 4 3]\n",
      "accuracy:  0.30202439024390243\n",
      "interation:  260\n",
      "[4 0 1 ... 0 7 0] [4 0 9 ... 9 4 3]\n",
      "accuracy:  0.3056829268292683\n",
      "interation:  270\n",
      "[4 0 1 ... 0 7 0] [4 0 9 ... 9 4 3]\n",
      "accuracy:  0.3094390243902439\n",
      "interation:  280\n",
      "[4 0 9 ... 0 7 0] [4 0 9 ... 9 4 3]\n",
      "accuracy:  0.31314634146341463\n",
      "interation:  290\n",
      "[4 0 9 ... 0 7 0] [4 0 9 ... 9 4 3]\n",
      "accuracy:  0.31614634146341464\n",
      "interation:  300\n",
      "[4 0 9 ... 0 7 0] [4 0 9 ... 9 4 3]\n",
      "accuracy:  0.32082926829268293\n",
      "interation:  310\n",
      "[4 0 7 ... 0 7 2] [4 0 9 ... 9 4 3]\n",
      "accuracy:  0.3241951219512195\n",
      "interation:  320\n",
      "[4 0 7 ... 0 7 2] [4 0 9 ... 9 4 3]\n",
      "accuracy:  0.3278536585365854\n",
      "interation:  330\n",
      "[4 0 7 ... 4 7 5] [4 0 9 ... 9 4 3]\n",
      "accuracy:  0.33126829268292685\n",
      "interation:  340\n",
      "[4 0 7 ... 4 7 5] [4 0 9 ... 9 4 3]\n",
      "accuracy:  0.3346585365853659\n",
      "interation:  350\n",
      "[4 0 7 ... 4 7 5] [4 0 9 ... 9 4 3]\n",
      "accuracy:  0.33870731707317075\n",
      "interation:  360\n",
      "[4 0 7 ... 4 7 5] [4 0 9 ... 9 4 3]\n",
      "accuracy:  0.3428048780487805\n",
      "interation:  370\n",
      "[4 0 7 ... 4 7 5] [4 0 9 ... 9 4 3]\n",
      "accuracy:  0.34604878048780485\n",
      "interation:  380\n",
      "[4 0 7 ... 4 7 5] [4 0 9 ... 9 4 3]\n",
      "accuracy:  0.34936585365853656\n",
      "interation:  390\n",
      "[4 0 7 ... 4 7 5] [4 0 9 ... 9 4 3]\n",
      "accuracy:  0.35380487804878047\n",
      "interation:  400\n",
      "[4 0 7 ... 4 7 5] [4 0 9 ... 9 4 3]\n",
      "accuracy:  0.3564634146341463\n",
      "interation:  410\n",
      "[4 0 7 ... 9 7 5] [4 0 9 ... 9 4 3]\n",
      "accuracy:  0.3599512195121951\n",
      "interation:  420\n",
      "[4 0 7 ... 9 7 5] [4 0 9 ... 9 4 3]\n",
      "accuracy:  0.36253658536585365\n",
      "interation:  430\n",
      "[4 0 7 ... 9 7 5] [4 0 9 ... 9 4 3]\n",
      "accuracy:  0.3651463414634146\n",
      "interation:  440\n",
      "[4 0 7 ... 9 7 5] [4 0 9 ... 9 4 3]\n",
      "accuracy:  0.36897560975609756\n",
      "interation:  450\n",
      "[4 0 7 ... 9 7 3] [4 0 9 ... 9 4 3]\n",
      "accuracy:  0.3720731707317073\n",
      "interation:  460\n",
      "[4 0 7 ... 9 7 3] [4 0 9 ... 9 4 3]\n",
      "accuracy:  0.3752439024390244\n",
      "interation:  470\n",
      "[4 0 7 ... 9 7 3] [4 0 9 ... 9 4 3]\n",
      "accuracy:  0.37878048780487805\n",
      "interation:  480\n",
      "[4 0 7 ... 9 7 3] [4 0 9 ... 9 4 3]\n",
      "accuracy:  0.3810487804878049\n",
      "interation:  490\n",
      "[4 0 7 ... 9 7 3] [4 0 9 ... 9 4 3]\n",
      "accuracy:  0.3844390243902439\n"
     ]
    }
   ],
   "source": [
    "W1, b1, W2, b2 = gradient_descent(X_train, Y_train, 0.1, 500)"
   ]
  },
  {
   "cell_type": "code",
   "execution_count": null,
   "id": "76664c83-92df-4f79-9df4-fb358d2ade6e",
   "metadata": {},
   "outputs": [],
   "source": []
  },
  {
   "cell_type": "code",
   "execution_count": null,
   "id": "2328e1e8-30e1-42cb-b035-c4dc5a4b9f94",
   "metadata": {},
   "outputs": [],
   "source": []
  }
 ],
 "metadata": {
  "kernelspec": {
   "display_name": "Python 3 (ipykernel)",
   "language": "python",
   "name": "python3"
  },
  "language_info": {
   "codemirror_mode": {
    "name": "ipython",
    "version": 3
   },
   "file_extension": ".py",
   "mimetype": "text/x-python",
   "name": "python",
   "nbconvert_exporter": "python",
   "pygments_lexer": "ipython3",
   "version": "3.8.10"
  }
 },
 "nbformat": 4,
 "nbformat_minor": 5
}
