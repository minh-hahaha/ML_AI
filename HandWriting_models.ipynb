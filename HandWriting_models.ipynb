{
 "cells": [
  {
   "cell_type": "markdown",
   "id": "4c982e59-1564-48ed-b795-e5dbbce86383",
   "metadata": {},
   "source": [
    "# Handwriting Demo\n",
    "---\n",
    "## Imports"
   ]
  },
  {
   "cell_type": "code",
   "execution_count": 1,
   "id": "92d43f63-ffd4-4cde-a1af-3f35284de299",
   "metadata": {},
   "outputs": [
    {
     "name": "stderr",
     "output_type": "stream",
     "text": [
      "2023-04-26 15:55:56.380401: I tensorflow/tsl/cuda/cudart_stub.cc:28] Could not find cuda drivers on your machine, GPU will not be used.\n",
      "2023-04-26 15:55:56.412684: I tensorflow/tsl/cuda/cudart_stub.cc:28] Could not find cuda drivers on your machine, GPU will not be used.\n",
      "2023-04-26 15:55:56.413241: I tensorflow/core/platform/cpu_feature_guard.cc:182] This TensorFlow binary is optimized to use available CPU instructions in performance-critical operations.\n",
      "To enable the following instructions: AVX2 FMA, in other operations, rebuild TensorFlow with the appropriate compiler flags.\n",
      "2023-04-26 15:55:57.055323: W tensorflow/compiler/tf2tensorrt/utils/py_utils.cc:38] TF-TRT Warning: Could not find TensorRT\n"
     ]
    }
   ],
   "source": [
    "import tensorflow as tf\n",
    "from keras.datasets import mnist\n",
    "import numpy as np\n",
    "import matplotlib\n",
    "import matplotlib.pyplot as plt"
   ]
  },
  {
   "cell_type": "markdown",
   "id": "49c39309-d89c-4600-aba3-7ed0006a600a",
   "metadata": {},
   "source": [
    "---\n",
    "## GPU and Versions"
   ]
  },
  {
   "cell_type": "code",
   "execution_count": 2,
   "id": "52394d2f-0015-48cd-8a3f-4a899e6e2255",
   "metadata": {},
   "outputs": [
    {
     "name": "stdout",
     "output_type": "stream",
     "text": [
      "Num of GPUs available:  0\n"
     ]
    }
   ],
   "source": [
    "print(\"Num of GPUs available: \" , len(tf.config.list_physical_devices('GPU')))"
   ]
  },
  {
   "cell_type": "code",
   "execution_count": 3,
   "id": "896f6abb-387b-41c1-9096-ee15142e7f9e",
   "metadata": {},
   "outputs": [
    {
     "name": "stdout",
     "output_type": "stream",
     "text": [
      "Tensorflow ver: 2.12.0\n",
      "numpy ver: 1.23.5\n",
      "matplotlib ver: 3.7.1\n"
     ]
    }
   ],
   "source": [
    "print(\"Tensorflow ver: \" + tf.__version__)\n",
    "print(\"numpy ver: \" + np.__version__)\n",
    "print(\"matplotlib ver: \" + matplotlib.__version__)"
   ]
  },
  {
   "cell_type": "markdown",
   "id": "84e022ad-7191-4abc-9c45-3186fa51b995",
   "metadata": {},
   "source": [
    "---\n",
    "\n"
   ]
  },
  {
   "cell_type": "markdown",
   "id": "5a504cce-2d2f-465d-927b-eb8ede4b1292",
   "metadata": {},
   "source": [
    "## Read in data\n",
    "### Describe\n",
    "* x is the image\n",
    "* y is the label"
   ]
  },
  {
   "cell_type": "code",
   "execution_count": 4,
   "id": "61ea6991-0afb-4ee5-b1f9-2b56851d47f1",
   "metadata": {},
   "outputs": [],
   "source": [
    "(train_x, train_y),(test_x, test_y) = mnist.load_data()"
   ]
  },
  {
   "cell_type": "markdown",
   "id": "f6f4e579-2a0e-456e-916e-434c0dc41e9e",
   "metadata": {},
   "source": [
    "### What is its data typetype(train_x)"
   ]
  },
  {
   "cell_type": "code",
   "execution_count": 5,
   "id": "bd5614b7-4962-43e0-b8ae-b7caf0a31859",
   "metadata": {},
   "outputs": [
    {
     "data": {
      "text/plain": [
       "numpy.ndarray"
      ]
     },
     "execution_count": 5,
     "metadata": {},
     "output_type": "execute_result"
    }
   ],
   "source": [
    "type(train_x)"
   ]
  },
  {
   "cell_type": "markdown",
   "id": "9a5167a0-89d8-476c-b416-a123d4bef938",
   "metadata": {},
   "source": [
    "---\n",
    "### What is the shape of the data\n",
    "\n",
    "* `train_x` contains all 60000 of the 28x28 images\n",
    "* `train_y` contains all 60000 classifications of those `train_x` images\n",
    "* `test_x` contains all 10000 reserved 28x28 images for testing\n",
    "* `test_y` contains all 10000 reserved classifications of those `test_x` images\n"
   ]
  },
  {
   "cell_type": "code",
   "execution_count": 6,
   "id": "ffc1812f-e5df-479b-9cab-fae72180464f",
   "metadata": {},
   "outputs": [
    {
     "name": "stdout",
     "output_type": "stream",
     "text": [
      "train_x: (60000, 28, 28)\n",
      "train_y: (60000,)\n",
      "test_x: (10000, 28, 28)\n",
      "test_y: (10000,)\n"
     ]
    }
   ],
   "source": [
    "print(\"train_x: \" + str(train_x.shape))\n",
    "print(\"train_y: \" + str(train_y.shape))\n",
    "print(\"test_x: \" + str(test_x.shape))\n",
    "print(\"test_y: \" + str(test_y.shape))"
   ]
  },
  {
   "cell_type": "markdown",
   "id": "40367c17-abff-4050-acb1-7a47edfe6b66",
   "metadata": {},
   "source": [
    "---\n",
    "## What does an image look like\n",
    "* Data\n",
    "* Display\n",
    "\n",
    "### What do data look like for one image"
   ]
  },
  {
   "cell_type": "code",
   "execution_count": 7,
   "id": "6a1131f9-80e4-489a-a1bd-5cbe9d1a366d",
   "metadata": {},
   "outputs": [],
   "source": [
    "#print(train_x[0])"
   ]
  },
  {
   "cell_type": "markdown",
   "id": "07ed877c-a199-4b1a-b297-c74d2b01e437",
   "metadata": {},
   "source": [
    "### The classifications"
   ]
  },
  {
   "cell_type": "code",
   "execution_count": 8,
   "id": "cd53f471-4586-4a74-afd4-a3119ce6b8cb",
   "metadata": {},
   "outputs": [
    {
     "name": "stdout",
     "output_type": "stream",
     "text": [
      "image 0 is classified as a 5\n",
      "image 1 is classified as a 0\n",
      "image 2 is classified as a 4\n",
      "image 3 is classified as a 1\n",
      "image 4 is classified as a 9\n"
     ]
    }
   ],
   "source": [
    "for n in range(5):\n",
    "    print(\"image \" + str(n) + \" is classified as a \" + str(train_y[n]))"
   ]
  },
  {
   "cell_type": "markdown",
   "id": "7037e67e-ad4a-4510-8e61-c9288c6e4e31",
   "metadata": {},
   "source": [
    "## prepare the data for training\n",
    "need to convert data to the domain of 0 -> 1"
   ]
  },
  {
   "cell_type": "code",
   "execution_count": 9,
   "id": "aa57dc9e-dc68-4be7-8f85-95df14b93c06",
   "metadata": {},
   "outputs": [],
   "source": [
    "train_x = train_x / 255\n",
    "test_x = test_x /255"
   ]
  },
  {
   "cell_type": "code",
   "execution_count": 10,
   "id": "196c98ff-b890-4556-ab7c-bf0c9ad5ebd2",
   "metadata": {},
   "outputs": [
    {
     "data": {
      "text/plain": [
       "array([[0.        , 0.        , 0.        , 0.        , 0.        ,\n",
       "        0.        , 0.        , 0.        , 0.        , 0.        ,\n",
       "        0.        , 0.        , 0.        , 0.        , 0.        ,\n",
       "        0.        , 0.        , 0.        , 0.        , 0.        ,\n",
       "        0.        , 0.        , 0.        , 0.        , 0.        ,\n",
       "        0.        , 0.        , 0.        ],\n",
       "       [0.        , 0.        , 0.        , 0.        , 0.        ,\n",
       "        0.        , 0.        , 0.        , 0.        , 0.        ,\n",
       "        0.        , 0.        , 0.        , 0.        , 0.        ,\n",
       "        0.        , 0.        , 0.        , 0.        , 0.        ,\n",
       "        0.        , 0.        , 0.        , 0.        , 0.        ,\n",
       "        0.        , 0.        , 0.        ],\n",
       "       [0.        , 0.        , 0.        , 0.        , 0.        ,\n",
       "        0.        , 0.        , 0.        , 0.        , 0.        ,\n",
       "        0.        , 0.        , 0.        , 0.        , 0.        ,\n",
       "        0.        , 0.        , 0.        , 0.        , 0.        ,\n",
       "        0.        , 0.        , 0.        , 0.        , 0.        ,\n",
       "        0.        , 0.        , 0.        ],\n",
       "       [0.        , 0.        , 0.        , 0.        , 0.        ,\n",
       "        0.        , 0.        , 0.        , 0.        , 0.        ,\n",
       "        0.        , 0.        , 0.        , 0.        , 0.        ,\n",
       "        0.        , 0.        , 0.        , 0.        , 0.        ,\n",
       "        0.        , 0.        , 0.        , 0.        , 0.        ,\n",
       "        0.        , 0.        , 0.        ],\n",
       "       [0.        , 0.        , 0.        , 0.        , 0.        ,\n",
       "        0.        , 0.        , 0.        , 0.        , 0.        ,\n",
       "        0.        , 0.        , 0.        , 0.        , 0.        ,\n",
       "        0.        , 0.        , 0.        , 0.        , 0.        ,\n",
       "        0.        , 0.        , 0.        , 0.        , 0.        ,\n",
       "        0.        , 0.        , 0.        ],\n",
       "       [0.        , 0.        , 0.        , 0.        , 0.        ,\n",
       "        0.        , 0.        , 0.        , 0.        , 0.        ,\n",
       "        0.        , 0.        , 0.01176471, 0.07058824, 0.07058824,\n",
       "        0.07058824, 0.49411765, 0.53333333, 0.68627451, 0.10196078,\n",
       "        0.65098039, 1.        , 0.96862745, 0.49803922, 0.        ,\n",
       "        0.        , 0.        , 0.        ],\n",
       "       [0.        , 0.        , 0.        , 0.        , 0.        ,\n",
       "        0.        , 0.        , 0.        , 0.11764706, 0.14117647,\n",
       "        0.36862745, 0.60392157, 0.66666667, 0.99215686, 0.99215686,\n",
       "        0.99215686, 0.99215686, 0.99215686, 0.88235294, 0.6745098 ,\n",
       "        0.99215686, 0.94901961, 0.76470588, 0.25098039, 0.        ,\n",
       "        0.        , 0.        , 0.        ],\n",
       "       [0.        , 0.        , 0.        , 0.        , 0.        ,\n",
       "        0.        , 0.        , 0.19215686, 0.93333333, 0.99215686,\n",
       "        0.99215686, 0.99215686, 0.99215686, 0.99215686, 0.99215686,\n",
       "        0.99215686, 0.99215686, 0.98431373, 0.36470588, 0.32156863,\n",
       "        0.32156863, 0.21960784, 0.15294118, 0.        , 0.        ,\n",
       "        0.        , 0.        , 0.        ],\n",
       "       [0.        , 0.        , 0.        , 0.        , 0.        ,\n",
       "        0.        , 0.        , 0.07058824, 0.85882353, 0.99215686,\n",
       "        0.99215686, 0.99215686, 0.99215686, 0.99215686, 0.77647059,\n",
       "        0.71372549, 0.96862745, 0.94509804, 0.        , 0.        ,\n",
       "        0.        , 0.        , 0.        , 0.        , 0.        ,\n",
       "        0.        , 0.        , 0.        ],\n",
       "       [0.        , 0.        , 0.        , 0.        , 0.        ,\n",
       "        0.        , 0.        , 0.        , 0.31372549, 0.61176471,\n",
       "        0.41960784, 0.99215686, 0.99215686, 0.80392157, 0.04313725,\n",
       "        0.        , 0.16862745, 0.60392157, 0.        , 0.        ,\n",
       "        0.        , 0.        , 0.        , 0.        , 0.        ,\n",
       "        0.        , 0.        , 0.        ],\n",
       "       [0.        , 0.        , 0.        , 0.        , 0.        ,\n",
       "        0.        , 0.        , 0.        , 0.        , 0.05490196,\n",
       "        0.00392157, 0.60392157, 0.99215686, 0.35294118, 0.        ,\n",
       "        0.        , 0.        , 0.        , 0.        , 0.        ,\n",
       "        0.        , 0.        , 0.        , 0.        , 0.        ,\n",
       "        0.        , 0.        , 0.        ],\n",
       "       [0.        , 0.        , 0.        , 0.        , 0.        ,\n",
       "        0.        , 0.        , 0.        , 0.        , 0.        ,\n",
       "        0.        , 0.54509804, 0.99215686, 0.74509804, 0.00784314,\n",
       "        0.        , 0.        , 0.        , 0.        , 0.        ,\n",
       "        0.        , 0.        , 0.        , 0.        , 0.        ,\n",
       "        0.        , 0.        , 0.        ],\n",
       "       [0.        , 0.        , 0.        , 0.        , 0.        ,\n",
       "        0.        , 0.        , 0.        , 0.        , 0.        ,\n",
       "        0.        , 0.04313725, 0.74509804, 0.99215686, 0.2745098 ,\n",
       "        0.        , 0.        , 0.        , 0.        , 0.        ,\n",
       "        0.        , 0.        , 0.        , 0.        , 0.        ,\n",
       "        0.        , 0.        , 0.        ],\n",
       "       [0.        , 0.        , 0.        , 0.        , 0.        ,\n",
       "        0.        , 0.        , 0.        , 0.        , 0.        ,\n",
       "        0.        , 0.        , 0.1372549 , 0.94509804, 0.88235294,\n",
       "        0.62745098, 0.42352941, 0.00392157, 0.        , 0.        ,\n",
       "        0.        , 0.        , 0.        , 0.        , 0.        ,\n",
       "        0.        , 0.        , 0.        ],\n",
       "       [0.        , 0.        , 0.        , 0.        , 0.        ,\n",
       "        0.        , 0.        , 0.        , 0.        , 0.        ,\n",
       "        0.        , 0.        , 0.        , 0.31764706, 0.94117647,\n",
       "        0.99215686, 0.99215686, 0.46666667, 0.09803922, 0.        ,\n",
       "        0.        , 0.        , 0.        , 0.        , 0.        ,\n",
       "        0.        , 0.        , 0.        ],\n",
       "       [0.        , 0.        , 0.        , 0.        , 0.        ,\n",
       "        0.        , 0.        , 0.        , 0.        , 0.        ,\n",
       "        0.        , 0.        , 0.        , 0.        , 0.17647059,\n",
       "        0.72941176, 0.99215686, 0.99215686, 0.58823529, 0.10588235,\n",
       "        0.        , 0.        , 0.        , 0.        , 0.        ,\n",
       "        0.        , 0.        , 0.        ],\n",
       "       [0.        , 0.        , 0.        , 0.        , 0.        ,\n",
       "        0.        , 0.        , 0.        , 0.        , 0.        ,\n",
       "        0.        , 0.        , 0.        , 0.        , 0.        ,\n",
       "        0.0627451 , 0.36470588, 0.98823529, 0.99215686, 0.73333333,\n",
       "        0.        , 0.        , 0.        , 0.        , 0.        ,\n",
       "        0.        , 0.        , 0.        ],\n",
       "       [0.        , 0.        , 0.        , 0.        , 0.        ,\n",
       "        0.        , 0.        , 0.        , 0.        , 0.        ,\n",
       "        0.        , 0.        , 0.        , 0.        , 0.        ,\n",
       "        0.        , 0.        , 0.97647059, 0.99215686, 0.97647059,\n",
       "        0.25098039, 0.        , 0.        , 0.        , 0.        ,\n",
       "        0.        , 0.        , 0.        ],\n",
       "       [0.        , 0.        , 0.        , 0.        , 0.        ,\n",
       "        0.        , 0.        , 0.        , 0.        , 0.        ,\n",
       "        0.        , 0.        , 0.        , 0.        , 0.18039216,\n",
       "        0.50980392, 0.71764706, 0.99215686, 0.99215686, 0.81176471,\n",
       "        0.00784314, 0.        , 0.        , 0.        , 0.        ,\n",
       "        0.        , 0.        , 0.        ],\n",
       "       [0.        , 0.        , 0.        , 0.        , 0.        ,\n",
       "        0.        , 0.        , 0.        , 0.        , 0.        ,\n",
       "        0.        , 0.        , 0.15294118, 0.58039216, 0.89803922,\n",
       "        0.99215686, 0.99215686, 0.99215686, 0.98039216, 0.71372549,\n",
       "        0.        , 0.        , 0.        , 0.        , 0.        ,\n",
       "        0.        , 0.        , 0.        ],\n",
       "       [0.        , 0.        , 0.        , 0.        , 0.        ,\n",
       "        0.        , 0.        , 0.        , 0.        , 0.        ,\n",
       "        0.09411765, 0.44705882, 0.86666667, 0.99215686, 0.99215686,\n",
       "        0.99215686, 0.99215686, 0.78823529, 0.30588235, 0.        ,\n",
       "        0.        , 0.        , 0.        , 0.        , 0.        ,\n",
       "        0.        , 0.        , 0.        ],\n",
       "       [0.        , 0.        , 0.        , 0.        , 0.        ,\n",
       "        0.        , 0.        , 0.        , 0.09019608, 0.25882353,\n",
       "        0.83529412, 0.99215686, 0.99215686, 0.99215686, 0.99215686,\n",
       "        0.77647059, 0.31764706, 0.00784314, 0.        , 0.        ,\n",
       "        0.        , 0.        , 0.        , 0.        , 0.        ,\n",
       "        0.        , 0.        , 0.        ],\n",
       "       [0.        , 0.        , 0.        , 0.        , 0.        ,\n",
       "        0.        , 0.07058824, 0.67058824, 0.85882353, 0.99215686,\n",
       "        0.99215686, 0.99215686, 0.99215686, 0.76470588, 0.31372549,\n",
       "        0.03529412, 0.        , 0.        , 0.        , 0.        ,\n",
       "        0.        , 0.        , 0.        , 0.        , 0.        ,\n",
       "        0.        , 0.        , 0.        ],\n",
       "       [0.        , 0.        , 0.        , 0.        , 0.21568627,\n",
       "        0.6745098 , 0.88627451, 0.99215686, 0.99215686, 0.99215686,\n",
       "        0.99215686, 0.95686275, 0.52156863, 0.04313725, 0.        ,\n",
       "        0.        , 0.        , 0.        , 0.        , 0.        ,\n",
       "        0.        , 0.        , 0.        , 0.        , 0.        ,\n",
       "        0.        , 0.        , 0.        ],\n",
       "       [0.        , 0.        , 0.        , 0.        , 0.53333333,\n",
       "        0.99215686, 0.99215686, 0.99215686, 0.83137255, 0.52941176,\n",
       "        0.51764706, 0.0627451 , 0.        , 0.        , 0.        ,\n",
       "        0.        , 0.        , 0.        , 0.        , 0.        ,\n",
       "        0.        , 0.        , 0.        , 0.        , 0.        ,\n",
       "        0.        , 0.        , 0.        ],\n",
       "       [0.        , 0.        , 0.        , 0.        , 0.        ,\n",
       "        0.        , 0.        , 0.        , 0.        , 0.        ,\n",
       "        0.        , 0.        , 0.        , 0.        , 0.        ,\n",
       "        0.        , 0.        , 0.        , 0.        , 0.        ,\n",
       "        0.        , 0.        , 0.        , 0.        , 0.        ,\n",
       "        0.        , 0.        , 0.        ],\n",
       "       [0.        , 0.        , 0.        , 0.        , 0.        ,\n",
       "        0.        , 0.        , 0.        , 0.        , 0.        ,\n",
       "        0.        , 0.        , 0.        , 0.        , 0.        ,\n",
       "        0.        , 0.        , 0.        , 0.        , 0.        ,\n",
       "        0.        , 0.        , 0.        , 0.        , 0.        ,\n",
       "        0.        , 0.        , 0.        ],\n",
       "       [0.        , 0.        , 0.        , 0.        , 0.        ,\n",
       "        0.        , 0.        , 0.        , 0.        , 0.        ,\n",
       "        0.        , 0.        , 0.        , 0.        , 0.        ,\n",
       "        0.        , 0.        , 0.        , 0.        , 0.        ,\n",
       "        0.        , 0.        , 0.        , 0.        , 0.        ,\n",
       "        0.        , 0.        , 0.        ]])"
      ]
     },
     "execution_count": 10,
     "metadata": {},
     "output_type": "execute_result"
    }
   ],
   "source": [
    "train_x[0]"
   ]
  },
  {
   "cell_type": "markdown",
   "id": "9cea872a-64e8-4964-b23d-9a126143e709",
   "metadata": {},
   "source": [
    "## Show a grid of images with label\n",
    "### Function to graph it"
   ]
  },
  {
   "cell_type": "code",
   "execution_count": 11,
   "id": "fd14eb2e-24e4-4e83-980a-38f1d2991ccc",
   "metadata": {},
   "outputs": [],
   "source": [
    "def graphit(images, labels, rows=1, cols=1, start=0, zoom=2):\n",
    "  n_images = rows * cols\n",
    "  fig, ax = plt.subplots(rows,cols,figsize=(cols * zoom, rows * zoom))\n",
    "  for n in range(n_images):\n",
    "    plt.subplot(rows, cols, n+1)\n",
    "    plt.xticks([])\n",
    "    plt.yticks([])\n",
    "    plt.grid(False)\n",
    "    plt.imshow(images[n+start], cmap=plt.cm.binary)\n",
    "    # plt.imshow(images[n])\n",
    "    plt.xlabel(\"[\" + str(n+start) + \"] is a : \" + str(labels[n+start]))\n",
    "  plt.show()"
   ]
  },
  {
   "cell_type": "markdown",
   "id": "b23f55f4-5ac0-4ba2-a529-d0e14e16bbde",
   "metadata": {},
   "source": [
    "## now set the parameters\n"
   ]
  },
  {
   "cell_type": "code",
   "execution_count": 12,
   "id": "a3206a39-d445-4b1a-8afa-3f46ce6716d3",
   "metadata": {},
   "outputs": [
    {
     "data": {
      "image/png": "[encoded data removed]",
      "text/plain": [
       "<Figure size 648x648 with 16 Axes>"
      ]
     },
     "metadata": {},
     "output_type": "display_data"
    }
   ],
   "source": [
    "graphit(test_x,test_y, 4,4,1000, zoom=2.25)"
   ]
  },
  {
   "cell_type": "markdown",
   "id": "78af5f9b-e1df-47f8-a6c7-a6adc306e1be",
   "metadata": {},
   "source": [
    "## Can I get a model to work?\n",
    "### Attempted model from 3blue1brown video"
   ]
  },
  {
   "cell_type": "code",
   "execution_count": 13,
   "id": "bc402760-b71b-461f-8102-d4dc0c995da7",
   "metadata": {},
   "outputs": [],
   "source": [
    "model = tf.keras.Sequential([\n",
    "    tf.keras.layers.Flatten(input_shape=(28,28)),\n",
    "    tf.keras.layers.Dense(128, activation=\"relu\"),\n",
    "    tf.keras.layers.Dropout(0.25),\n",
    "    tf.keras.layers.Dense(32, activation=\"relu\"),\n",
    "    tf.keras.layers.Dense(10, activation=\"softmax\")\n",
    "])"
   ]
  },
  {
   "cell_type": "markdown",
   "id": "f4407827-bd20-4117-9225-55e4ee372321",
   "metadata": {},
   "source": [
    "### Display model's architecture"
   ]
  },
  {
   "cell_type": "code",
   "execution_count": 14,
   "id": "c2bc3ade-7bef-4604-99b5-3392adbc186b",
   "metadata": {},
   "outputs": [
    {
     "name": "stdout",
     "output_type": "stream",
     "text": [
      "Model: \"sequential\"\n",
      "_________________________________________________________________\n",
      " Layer (type)                Output Shape              Param #   \n",
      "=================================================================\n",
      " flatten (Flatten)           (None, 784)               0         \n",
      "                                                                 \n",
      " dense (Dense)               (None, 128)               100480    \n",
      "                                                                 \n",
      " dropout (Dropout)           (None, 128)               0         \n",
      "                                                                 \n",
      " dense_1 (Dense)             (None, 32)                4128      \n",
      "                                                                 \n",
      " dense_2 (Dense)             (None, 10)                330       \n",
      "                                                                 \n",
      "=================================================================\n",
      "Total params: 104,938\n",
      "Trainable params: 104,938\n",
      "Non-trainable params: 0\n",
      "_________________________________________________________________\n"
     ]
    }
   ],
   "source": [
    "model.summary()"
   ]
  },
  {
   "cell_type": "markdown",
   "id": "705f6cda-9bfe-4d19-98bc-3e27841d5a0f",
   "metadata": {},
   "source": [
    "### Compile the model"
   ]
  },
  {
   "cell_type": "code",
   "execution_count": 15,
   "id": "b4abf273-f0ba-4e10-91b7-7367daf3443f",
   "metadata": {},
   "outputs": [],
   "source": [
    "model.compile(optimizer=\"adam\",\n",
    "              loss = tf.keras.losses.SparseCategoricalCrossentropy(from_logits=True),\n",
    "              metrics = ['accuracy'])"
   ]
  },
  {
   "cell_type": "markdown",
   "id": "8cc99b1b-a99e-4d71-98b6-6f9d69508b63",
   "metadata": {},
   "source": [
    "## Train"
   ]
  },
  {
   "cell_type": "code",
   "execution_count": 16,
   "id": "6c7a01dc-a4a5-4101-b0b6-9549434dc5f9",
   "metadata": {},
   "outputs": [
    {
     "name": "stdout",
     "output_type": "stream",
     "text": [
      "Epoch 1/10\n"
     ]
    },
    {
     "name": "stderr",
     "output_type": "stream",
     "text": [
      "/usr/local/lib/python3.8/dist-packages/keras/backend.py:5612: UserWarning: \"`sparse_categorical_crossentropy` received `from_logits=True`, but the `output` argument was produced by a Softmax activation and thus does not represent logits. Was this intended?\n",
      "  output, from_logits = _get_logits(\n"
     ]
    },
    {
     "name": "stdout",
     "output_type": "stream",
     "text": [
      "469/469 [==============================] - 1s 2ms/step - loss: 0.4359 - accuracy: 0.8695\n",
      "Epoch 2/10\n",
      "469/469 [==============================] - 1s 2ms/step - loss: 0.1900 - accuracy: 0.9433\n",
      "Epoch 3/10\n",
      "469/469 [==============================] - 1s 2ms/step - loss: 0.1415 - accuracy: 0.9571\n",
      "Epoch 4/10\n",
      "469/469 [==============================] - 1s 2ms/step - loss: 0.1180 - accuracy: 0.9640\n",
      "Epoch 5/10\n",
      "469/469 [==============================] - 1s 2ms/step - loss: 0.0979 - accuracy: 0.9707\n",
      "Epoch 6/10\n",
      "469/469 [==============================] - 1s 2ms/step - loss: 0.0878 - accuracy: 0.9725\n",
      "Epoch 7/10\n",
      "469/469 [==============================] - 1s 2ms/step - loss: 0.0794 - accuracy: 0.9752\n",
      "Epoch 8/10\n",
      "469/469 [==============================] - 1s 2ms/step - loss: 0.0712 - accuracy: 0.9772\n",
      "Epoch 9/10\n",
      "469/469 [==============================] - 1s 2ms/step - loss: 0.0656 - accuracy: 0.9791\n",
      "Epoch 10/10\n",
      "469/469 [==============================] - 1s 2ms/step - loss: 0.0622 - accuracy: 0.9803\n"
     ]
    }
   ],
   "source": [
    "history= model.fit(train_x,train_y, epochs=10, batch_size=128)"
   ]
  },
  {
   "cell_type": "markdown",
   "id": "5b7de0dc-9864-4d2e-9688-b95f6da28009",
   "metadata": {},
   "source": [
    "## Look at history\n",
    "### look like a dict"
   ]
  },
  {
   "cell_type": "code",
   "execution_count": 17,
   "id": "9a091e4e-fa3f-46e9-8c9c-9db1a946031c",
   "metadata": {},
   "outputs": [
    {
     "name": "stdout",
     "output_type": "stream",
     "text": [
      "{'loss': [0.4358731806278229, 0.18999075889587402, 0.1414519101381302, 0.11802661418914795, 0.09786557406187057, 0.08776875585317612, 0.07937782257795334, 0.07123873382806778, 0.06563888490200043, 0.06220562383532524], 'accuracy': [0.8694999814033508, 0.9432666897773743, 0.9570666551589966, 0.9640499949455261, 0.9706666469573975, 0.972516655921936, 0.9751833081245422, 0.9771666526794434, 0.9790833592414856, 0.9802500009536743]}\n"
     ]
    }
   ],
   "source": [
    "print(history.history)"
   ]
  },
  {
   "cell_type": "code",
   "execution_count": 46,
   "id": "b96c7bbf-64a8-4e11-995e-690d6d79656f",
   "metadata": {},
   "outputs": [
    {
     "data": {
      "image/png": "[encoded data removed]",
      "text/plain": [
       "<Figure size 720x576 with 2 Axes>"
      ]
     },
     "metadata": {
      "needs_background": "light"
     },
     "output_type": "display_data"
    }
   ],
   "source": [
    "# list the number of epoch from the history object\n",
    "x_values = np.arange(len(history.history['loss']))\n",
    "\n",
    "fig, ax1 = plt.subplots(figsize=(10,8))\n",
    "fig.suptitle(\"Graph of loss and accuracy by epochs\", fontsize=20)\n",
    "\n",
    "ax1.set_xlabel(\"Epochs\")\n",
    "ax1.set_ylabel('loss', color='black', fontsize =14)\n",
    "plot_1 = ax1.plot(x_values,history.history['loss'], label=\"loss\")\n",
    "ax1.tick_params(axis = 'y', labelcolor = 'black')\n",
    "\n",
    "# adding twin axes\n",
    "ax2 = ax1.twinx()\n",
    "\n",
    "ax2.set_ylabel('accuracy', color ='red',fontsize = 14)\n",
    "plot_2 = ax2.plot(x_values,history.history['accuracy'], color='red')\n",
    "ax2.tick_params(axis = 'y', labelcolor = 'red')\n"
   ]
  },
  {
   "cell_type": "markdown",
   "id": "b774f92e-1f46-4c69-88db-898afb926bfb",
   "metadata": {
    "tags": []
   },
   "source": [
    "---\n",
    "## Evaluate the model\n",
    "### Test data that is still 28x28 images"
   ]
  },
  {
   "cell_type": "code",
   "execution_count": 19,
   "id": "13318c30-d1a9-4efc-8b1b-a014157809c0",
   "metadata": {},
   "outputs": [
    {
     "name": "stdout",
     "output_type": "stream",
     "text": [
      "313/313 [==============================] - 0s 802us/step - loss: 0.0721 - accuracy: 0.9790\n",
      "\n",
      "Test Accuracy: 97.89999723434448 %\n"
     ]
    }
   ],
   "source": [
    "test_loss,test_acc = model.evaluate(test_x,test_y,verbose = 1)\n",
    "print('\\nTest Accuracy:', test_acc *100, \"%\")"
   ]
  },
  {
   "cell_type": "markdown",
   "id": "60f9ff70-3596-41b4-a5a3-a61bfb2318ce",
   "metadata": {},
   "source": [
    "---\n",
    "## Predictions\n",
    "### 28x28 images"
   ]
  },
  {
   "cell_type": "code",
   "execution_count": 20,
   "id": "c4a625de-2e8e-4686-92f8-cd1de6643107",
   "metadata": {},
   "outputs": [
    {
     "name": "stdout",
     "output_type": "stream",
     "text": [
      "4/4 [==============================] - 0s 923us/step\n"
     ]
    }
   ],
   "source": [
    "prediction = model.predict(test_x[0:100])"
   ]
  },
  {
   "cell_type": "markdown",
   "id": "0cf58494-2ba9-48d6-a772-1284330f79a5",
   "metadata": {},
   "source": [
    "### look at prediction 0"
   ]
  },
  {
   "cell_type": "code",
   "execution_count": 21,
   "id": "8571098a-a776-4fa0-9a0b-5cf53e07b946",
   "metadata": {},
   "outputs": [
    {
     "data": {
      "text/plain": [
       "numpy.ndarray"
      ]
     },
     "execution_count": 21,
     "metadata": {},
     "output_type": "execute_result"
    }
   ],
   "source": [
    "type(prediction[0])"
   ]
  },
  {
   "cell_type": "code",
   "execution_count": 22,
   "id": "f5ef167c-20c4-4602-9618-be1fe823b76f",
   "metadata": {},
   "outputs": [
    {
     "data": {
      "text/plain": [
       "array([1.7220914e-08, 6.4967388e-08, 2.6297719e-05, 1.2338247e-04,\n",
       "       2.2971618e-13, 8.1805780e-09, 1.8530836e-14, 9.9985003e-01,\n",
       "       7.2934214e-09, 1.6423735e-07], dtype=float32)"
      ]
     },
     "execution_count": 22,
     "metadata": {},
     "output_type": "execute_result"
    }
   ],
   "source": [
    "prediction[0]"
   ]
  },
  {
   "cell_type": "markdown",
   "id": "99e89e51-38b1-4512-80db-445f8af8edfc",
   "metadata": {},
   "source": [
    "---\n",
    "## Need a list of incorrect predictions\n",
    "#### look thru the 100 predictions find where label is not the prediction"
   ]
  },
  {
   "cell_type": "code",
   "execution_count": 23,
   "id": "3f578a3c-26cb-44ad-a5f3-9698e987a0fa",
   "metadata": {},
   "outputs": [
    {
     "name": "stdout",
     "output_type": "stream",
     "text": [
      "7 7\n",
      "2 2\n",
      "1 1\n",
      "0 0\n",
      "4 4\n",
      "1 1\n",
      "4 4\n",
      "9 9\n",
      "5 5\n",
      "9 9\n",
      "0 0\n",
      "6 6\n",
      "9 9\n",
      "0 0\n",
      "1 1\n",
      "5 5\n",
      "9 9\n",
      "7 7\n",
      "3 3\n",
      "4 4\n",
      "9 9\n",
      "6 6\n",
      "6 6\n",
      "5 5\n",
      "4 4\n",
      "0 0\n",
      "7 7\n",
      "4 4\n",
      "0 0\n",
      "1 1\n",
      "3 3\n",
      "1 1\n",
      "3 3\n",
      "4 4\n",
      "7 7\n",
      "2 2\n",
      "7 7\n",
      "1 1\n",
      "2 2\n",
      "1 1\n",
      "1 1\n",
      "7 7\n",
      "4 4\n",
      "2 2\n",
      "3 3\n",
      "5 5\n",
      "1 1\n",
      "2 2\n",
      "4 4\n",
      "4 4\n",
      "6 6\n",
      "3 3\n",
      "5 5\n",
      "5 5\n",
      "6 6\n",
      "0 0\n",
      "4 4\n",
      "1 1\n",
      "9 9\n",
      "5 5\n",
      "7 7\n",
      "8 8\n",
      "9 9\n",
      "3 3\n",
      "7 7\n",
      "4 4\n",
      "6 6\n",
      "4 4\n",
      "3 3\n",
      "0 0\n",
      "7 7\n",
      "0 0\n",
      "2 2\n",
      "9 9\n",
      "1 1\n",
      "7 7\n",
      "3 3\n",
      "2 2\n",
      "9 9\n",
      "7 7\n",
      "7 7\n",
      "6 6\n",
      "2 2\n",
      "7 7\n",
      "8 8\n",
      "4 4\n",
      "7 7\n",
      "3 3\n",
      "6 6\n",
      "1 1\n",
      "3 3\n",
      "6 6\n",
      "9 9\n",
      "3 3\n",
      "1 1\n",
      "4 4\n",
      "1 1\n",
      "7 7\n",
      "6 6\n",
      "9 9\n"
     ]
    }
   ],
   "source": [
    "wrong = []\n",
    "for i in range(len(prediction)):\n",
    "    print(np.argmax(prediction[i]),test_y[i])"
   ]
  },
  {
   "cell_type": "markdown",
   "id": "0a290655-8ebf-4fe3-a148-584037427dc8",
   "metadata": {},
   "source": [
    "## The first 100 are correct\n",
    "### so - we need to look more"
   ]
  },
  {
   "cell_type": "code",
   "execution_count": 24,
   "id": "4519819d-dcf6-4f33-b3e6-1fd6d04c8629",
   "metadata": {},
   "outputs": [
    {
     "name": "stdout",
     "output_type": "stream",
     "text": [
      "313/313 [==============================] - 0s 686us/step\n"
     ]
    }
   ],
   "source": [
    "all_predictions = model.predict(test_x)"
   ]
  },
  {
   "cell_type": "code",
   "execution_count": 34,
   "id": "d411af47-3a60-489b-9f87-fa88f4f45740",
   "metadata": {},
   "outputs": [],
   "source": [
    "wrong = []\n",
    "for i in range(len(test_x)):\n",
    "    if np.argmax(all_predictions[i]) != test_y[i]:\n",
    "        wrong.append(i)\n",
    "\n",
    "print(wrong)\n",
    "print(len(wrong))\n",
    "print(\"percentage wrong\", len(wrong)/len(test_x)*100, '%')"
   ]
  },
  {
   "cell_type": "code",
   "execution_count": 44,
   "id": "8d95a5ec-7035-4b6d-b50f-baa714be5758",
   "metadata": {},
   "outputs": [
    {
     "data": {
      "image/png": "[encoded data removed]",
      "text/plain": [
       "<Figure size 720x360 with 2 Axes>"
      ]
     },
     "metadata": {
      "needs_background": "light"
     },
     "output_type": "display_data"
    }
   ],
   "source": [
    "observation = 321\n",
    "nums = [0,1,2,3,4,5,6,7,8,9]\n",
    "\n",
    "fig, ax = plt.subplots(1,2, figsize=(10,5))\n",
    "ax[0].imshow(test_x[observation], cmap=plt.cm.binary)\n",
    "ax[0].grid(False)\n",
    "ax[0].set_xticks([])\n",
    "ax[0].set_yticks([])\n",
    "ax[0].set_xlabel('This is a ' + str(test_y[observation]))\n",
    "ax[1].bar(nums,all_predictions[observation])\n",
    "ax[1].set_xticks(nums)\n",
    "ax[1].set_xlabel('Number')\n",
    "ax[1].set_ylabel('Porbability')\n",
    "plt.show()\n"
   ]
  },
  {
   "cell_type": "markdown",
   "id": "57572b1d-77bb-4448-bb69-b25f75da78d5",
   "metadata": {},
   "source": [
    "---\n",
    "## Save the Model"
   ]
  },
  {
   "cell_type": "code",
   "execution_count": 45,
   "id": "34ceea13-a550-4cf8-897e-3aa13122b792",
   "metadata": {},
   "outputs": [],
   "source": [
    "model.save('handwriting_model.h5')"
   ]
  },
  {
   "cell_type": "code",
   "execution_count": null,
   "id": "77b823d0-640a-49de-b86e-395744a1e490",
   "metadata": {},
   "outputs": [],
   "source": []
  }
 ],
 "metadata": {
  "kernelspec": {
   "display_name": "Python 3 (ipykernel)",
   "language": "python",
   "name": "python3"
  },
  "language_info": {
   "codemirror_mode": {
    "name": "ipython",
    "version": 3
   },
   "file_extension": ".py",
   "mimetype": "text/x-python",
   "name": "python",
   "nbconvert_exporter": "python",
   "pygments_lexer": "ipython3",
   "version": "3.8.10"
  }
 },
 "nbformat": 4,
 "nbformat_minor": 5
}
